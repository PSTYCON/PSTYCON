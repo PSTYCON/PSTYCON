{
  "nbformat": 4,
  "nbformat_minor": 0,
  "metadata": {
    "colab": {
      "provenance": [],
      "collapsed_sections": [],
      "authorship_tag": "ABX9TyO/M8OXvnDZFSrhBWMop5kB",
      "include_colab_link": true
    },
    "kernelspec": {
      "name": "python3",
      "display_name": "Python 3"
    },
    "language_info": {
      "name": "python"
    }
  },
  "cells": [
    {
      "cell_type": "markdown",
      "metadata": {
        "id": "view-in-github",
        "colab_type": "text"
      },
      "source": [
        "<a href=\"https://colab.research.google.com/github/PSTYCON/PSTYCON/blob/main/Untitled7.ipynb\" target=\"_parent\"><img src=\"https://colab.research.google.com/assets/colab-badge.svg\" alt=\"Open In Colab\"/></a>"
      ]
    },
    {
      "cell_type": "code",
      "execution_count": 16,
      "metadata": {
        "colab": {
          "base_uri": "https://localhost:8080/",
          "height": 244
        },
        "id": "-N1yC1xAMPjs",
        "outputId": "70d09312-ee56-4a7c-a653-7991e705d931"
      },
      "outputs": [
        {
          "output_type": "error",
          "ename": "error",
          "evalue": "ignored",
          "traceback": [
            "\u001b[0;31m---------------------------------------------------------------------------\u001b[0m",
            "\u001b[0;31merror\u001b[0m                                     Traceback (most recent call last)",
            "\u001b[0;32m<ipython-input-16-4a0fdddb62dc>\u001b[0m in \u001b[0;36m<module>\u001b[0;34m\u001b[0m\n\u001b[1;32m     10\u001b[0m \u001b[0;34m\u001b[0m\u001b[0m\n\u001b[1;32m     11\u001b[0m \u001b[0;31m#Converting image to LAB Color so CLAHE can be applied to the luminance channel\u001b[0m\u001b[0;34m\u001b[0m\u001b[0;34m\u001b[0m\u001b[0;34m\u001b[0m\u001b[0m\n\u001b[0;32m---> 12\u001b[0;31m \u001b[0mlab_img\u001b[0m\u001b[0;34m=\u001b[0m \u001b[0mcv2\u001b[0m\u001b[0;34m.\u001b[0m\u001b[0mcvtColor\u001b[0m\u001b[0;34m(\u001b[0m\u001b[0mimg\u001b[0m\u001b[0;34m,\u001b[0m \u001b[0mcv2\u001b[0m\u001b[0;34m.\u001b[0m\u001b[0mCOLOR_BGR2LAB\u001b[0m\u001b[0;34m)\u001b[0m\u001b[0;34m\u001b[0m\u001b[0;34m\u001b[0m\u001b[0m\n\u001b[0m\u001b[1;32m     13\u001b[0m \u001b[0;34m\u001b[0m\u001b[0m\n\u001b[1;32m     14\u001b[0m \u001b[0;31m#Splitting the LAB image to L, A and B channels, respectively\u001b[0m\u001b[0;34m\u001b[0m\u001b[0;34m\u001b[0m\u001b[0;34m\u001b[0m\u001b[0m\n",
            "\u001b[0;31merror\u001b[0m: OpenCV(4.6.0) /io/opencv/modules/imgproc/src/color.cpp:182: error: (-215:Assertion failed) !_src.empty() in function 'cvtColor'\n"
          ]
        }
      ],
      "source": [
        "import cv2\n",
        "from math import log10, sqrt\n",
        "import cv2\n",
        "import numpy as np\n",
        "from skimage import io\n",
        "from matplotlib import pyplot as plt\n",
        "\n",
        "img = cv2.imread(\"/Users/pritamsaha/Downloads/New folder 3/image/Image-Contrast-Enhancement/dark.jpg\", 1)\n",
        "img = cv2.imread('/Users/pritamsaha/Downloads/New folder 3/image/Image-Contrast-Enhancement/dark.jpg', 1)\n",
        "\n",
        "#Converting image to LAB Color so CLAHE can be applied to the luminance channel\n",
        "lab_img= cv2.cvtColor(img, cv2.COLOR_BGR2LAB)\n",
        "\n",
        "#Splitting the LAB image to L, A and B channels, respectively\n",
        "l, a, b = cv2.split(lab_img)\n",
        "\n",
        "#plt.hist(l.flat, bins=100, range=(0,255))\n",
        "###########Histogram Equlization#############\n",
        "#Apply histogram equalization to the L channel\n",
        "equ = cv2.equalizeHist(l)\n",
        "\n",
        "#plt.hist(equ.flat, bins=100, range=(0,255))\n",
        "#Combine the Hist. equalized L-channel back with A and B channels\n",
        "updated_lab_img1 = cv2.merge((equ,a,b))\n",
        "\n",
        "#Convert LAB image back to color (RGB)\n",
        "hist_eq_img = cv2.cvtColor(updated_lab_img1, cv2.COLOR_LAB2BGR)\n",
        "\n",
        "#################CLAHE#########################\n",
        "#Apply CLAHE to L channel\n",
        "clahe = cv2.createCLAHE(clipLimit=3.0, tileGridSize=(8,8))\n",
        "clahe_img = clahe.apply(l)\n",
        "#plt.hist(clahe_img.flat, bins=100, range=(0,255))\n",
        "\n",
        "#Combine the CLAHE enhanced L-channel back with A and B channels\n",
        "updated_lab_img2 = cv2.merge((clahe_img,a,b))\n",
        "\n",
        "#Convert LAB image back to color (RGB)\n",
        "CLAHE_img = cv2.cvtColor(updated_lab_img2, cv2.COLOR_LAB2BGR)\n",
        "\n",
        "def PSNR(img, CLAHE_img):\n",
        "    mse = np.mean((img - CLAHE_img) ** 2)\n",
        "    if (mse == 0):  # MSE is zero means no noise is present in the signal .\n",
        "        # Therefore PSNR have no importance.\n",
        "       \n",
        "        return 100\n",
        "    max_pixel = 255.0\n",
        "    psnr = 20 * log10(max_pixel / sqrt(mse))\n",
        "    return psnr\n",
        "\n",
        "\n",
        "cv2.imshow(\"Original image\", img)\n",
        "cv2.imshow(\"Equalized image\", hist_eq_img)\n",
        "cv2.imshow('CLAHE Image', CLAHE_img)\n",
        "histr = cv2.calcHist([CLAHE_img], [0],None, [256], [0, 256])\n",
        "plt.plot(histr)\n",
        "plt.show()\n",
        "value = PSNR(img, CLAHE_img)\n",
        "print(f\"PSNR value is {value} dB\")\n",
        "\n",
        "\n",
        "cv2.waitKey(0)\n",
        "cv2.destroyAllWindows()"
      ]
    }
  ]
}